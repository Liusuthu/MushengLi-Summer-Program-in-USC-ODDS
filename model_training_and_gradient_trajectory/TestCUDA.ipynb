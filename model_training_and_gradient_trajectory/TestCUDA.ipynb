{
 "cells": [
  {
   "cell_type": "code",
   "execution_count": 5,
   "metadata": {},
   "outputs": [
    {
     "name": "stdout",
     "output_type": "stream",
     "text": [
      "torch版本: 1.11.0+cu113\n"
     ]
    }
   ],
   "source": [
    "import torch\n",
    "import torch.utils\n",
    "import torch.utils.cpp_extension\n",
    "\n",
    "print(\"torch版本:\",torch.__version__) # 查看torch版本\n",
    "\n"
   ]
  },
  {
   "cell_type": "code",
   "execution_count": 6,
   "metadata": {},
   "outputs": [
    {
     "name": "stdout",
     "output_type": "stream",
     "text": [
      "torch和cuda能不能用: True\n"
     ]
    }
   ],
   "source": [
    "print(\"torch和cuda能不能用:\",torch.cuda.is_available()) # 看安装好的torch和cuda能不能用，也就是看GPU能不能用\n",
    "\n"
   ]
  },
  {
   "cell_type": "code",
   "execution_count": 7,
   "metadata": {},
   "outputs": [
    {
     "name": "stdout",
     "output_type": "stream",
     "text": [
      "cuda 版本: 11.3\n"
     ]
    }
   ],
   "source": [
    "print(\"cuda 版本:\",torch.version.cuda) # 输出一个 cuda 版本，注意：上述输出的 cuda 的版本并不一定是 Pytorch 在实际系统上运行时使用的 cuda 版本，而是编译该 Pytorch release 版本时使用的 cuda 版本，详见：https://blog.csdn.net/xiqi4145/article/details/110254093"
   ]
  },
  {
   "cell_type": "code",
   "execution_count": 8,
   "metadata": {},
   "outputs": [
    {
     "name": "stdout",
     "output_type": "stream",
     "text": [
      "运行时使用的 cuda: /usr/local/cuda\n"
     ]
    }
   ],
   "source": [
    "print(\"运行时使用的 cuda:\",torch.utils.cpp_extension.CUDA_HOME) #输出 Pytorch 运行时使用的 cuda 作者：麦冬小透明 https://www.bilibili.com/read/cv34265365/ 出处：bilibili"
   ]
  }
 ],
 "metadata": {
  "kernelspec": {
   "display_name": "DP",
   "language": "python",
   "name": "python3"
  },
  "language_info": {
   "codemirror_mode": {
    "name": "ipython",
    "version": 3
   },
   "file_extension": ".py",
   "mimetype": "text/x-python",
   "name": "python",
   "nbconvert_exporter": "python",
   "pygments_lexer": "ipython3",
   "version": "3.9.19"
  }
 },
 "nbformat": 4,
 "nbformat_minor": 2
}
