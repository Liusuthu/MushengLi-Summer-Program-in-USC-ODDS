{
 "cells": [
  {
   "cell_type": "code",
   "execution_count": 15,
   "metadata": {},
   "outputs": [],
   "source": [
    "DEVICE='cuda:0'\n",
    "DIMENSION=224\n",
    "MINI_BS=100\n",
    "BS=1000\n",
    "LR=1e-4\n",
    "MODEL='vit_base_patch16_224'\n",
    "CLIPPING_MODE='nonDP'\n",
    "MODEL_PATH='./checkpoints/nonDP_model_epoch_4.pth'\n",
    "# MODEL_PATH='./checkpoints/nonDP_model_begin.pth'\n",
    "\n",
    "\n",
    "n_acc_steps = BS // MINI_BS # gradient accumulation steps"
   ]
  },
  {
   "cell_type": "code",
   "execution_count": 16,
   "metadata": {},
   "outputs": [
    {
     "name": "stdout",
     "output_type": "stream",
     "text": [
      "device: cuda:0\n"
     ]
    }
   ],
   "source": [
    "import torch\n",
    "\n",
    "device= torch.device(DEVICE if torch.cuda.is_available() else \"cpu\") #默认为cuda:0\n",
    "print(\"device:\",device)"
   ]
  },
  {
   "cell_type": "code",
   "execution_count": 17,
   "metadata": {},
   "outputs": [
    {
     "name": "stdout",
     "output_type": "stream",
     "text": [
      "==> Preparing data..\n",
      "Files already downloaded and verified\n",
      "Files already downloaded and verified\n"
     ]
    }
   ],
   "source": [
    "print('==> Preparing data..')\n",
    "\n",
    "import torchvision\n",
    "transformation = torchvision.transforms.Compose([\n",
    "    torchvision.transforms.Resize(DIMENSION),\n",
    "    torchvision.transforms.ToTensor(),\n",
    "    torchvision.transforms.Normalize((0.5, 0.5, 0.5),(0.5, 0.5, 0.5)),\n",
    "])\n",
    "\n",
    "trainset = torchvision.datasets.CIFAR100(root='data/', train=True, download=True, transform=transformation)\n",
    "testset = torchvision.datasets.CIFAR100(root='data/', train=False, download=True, transform=transformation)\n",
    "\n",
    "trainloader = torch.utils.data.DataLoader(\n",
    "    trainset, batch_size=MINI_BS, shuffle=True, num_workers=4) # shuffle会在数据加载前打乱数据集\n",
    "\n",
    "testloader = torch.utils.data.DataLoader(\n",
    "    testset, batch_size=100, shuffle=False, num_workers=4)\n"
   ]
  },
  {
   "cell_type": "code",
   "execution_count": 18,
   "metadata": {},
   "outputs": [
    {
     "name": "stdout",
     "output_type": "stream",
     "text": [
      "==> Building model.. vit_base_patch16_224 ; BatchNorm is replaced by GroupNorm. Mode:  nonDP\n",
      "Number of total parameters:  85875556\n",
      "Number of trainable parameters:  85875556\n"
     ]
    }
   ],
   "source": [
    "import timm\n",
    "from opacus.validators import ModuleValidator\n",
    "import torch.nn as nn\n",
    "import torch.optim as optim\n",
    "\n",
    "checkpoint = torch.load(MODEL_PATH)\n",
    "\n",
    "num_classes=100\n",
    "print('==> Building model..', MODEL,'; BatchNorm is replaced by GroupNorm. Mode: ', CLIPPING_MODE)\n",
    "net = timm.create_model(MODEL,pretrained=True,num_classes=num_classes)\n",
    "net = ModuleValidator.fix(net); # fix使其能用于DP训练\n",
    "net.load_state_dict(checkpoint['model_state_dict'])\n",
    "net=net.to(device) \n",
    "\n",
    "print('Number of total parameters: ', sum([p.numel() for p in net.parameters()]))\n",
    "print('Number of trainable parameters: ', sum([p.numel() for p in net.parameters() if p.requires_grad]))\n",
    "\n",
    "criterion = nn.CrossEntropyLoss()\n",
    "\n",
    "optimizer = optim.Adam(net.parameters(), lr=LR)\n",
    "optimizer.load_state_dict(checkpoint['optimizer_state_dict'])\n"
   ]
  },
  {
   "cell_type": "markdown",
   "metadata": {},
   "source": [
    "# 策略\n",
    "batch_size是会影响准确率的，每个batch_size都对应一个true gradient(每n_acc_steps积累好一次)。针对三个环节，我们需要在一个epoch内：\n",
    "\n",
    " 1、计算每个batch_size的gradient，由于bs=1000, dataset_size=50000, 总共会产生50个true gradient, 将其保存到文件中, 并且在每个optimizer.step()后保存一下模型文件。<br>\n",
    " 2、设置batch_size=1，打开之前训练好的各个模型文件，分别计算per-sample gradient(可以取间隔,例如每个true gradient对应20个点,注意每个true gradient对应1000个sample)，保存到文件中。<br>\n",
    " 3、最后用一段小程序画图就好"
   ]
  },
  {
   "cell_type": "code",
   "execution_count": 19,
   "metadata": {},
   "outputs": [
    {
     "name": "stdout",
     "output_type": "stream",
     "text": [
      "Model saved to ./nonDP_checkpoints/end_0.pth\n"
     ]
    },
    {
     "data": {
      "application/vnd.jupyter.widget-view+json": {
       "model_id": "53ff8b95a40c4ea1bef9d7986e56cb89",
       "version_major": 2,
       "version_minor": 0
      },
      "text/plain": [
       "  0%|          | 0/500 [00:00<?, ?it/s]"
      ]
     },
     "metadata": {},
     "output_type": "display_data"
    },
    {
     "name": "stdout",
     "output_type": "stream",
     "text": [
      "1\n",
      "Model saved to ./nonDP_checkpoints/end_1.pth\n",
      "2\n",
      "Model saved to ./nonDP_checkpoints/end_2.pth\n",
      "3\n",
      "Model saved to ./nonDP_checkpoints/end_3.pth\n",
      "4\n",
      "Model saved to ./nonDP_checkpoints/end_4.pth\n",
      "5\n",
      "Model saved to ./nonDP_checkpoints/end_5.pth\n",
      "6\n",
      "Model saved to ./nonDP_checkpoints/end_6.pth\n",
      "7\n",
      "Model saved to ./nonDP_checkpoints/end_7.pth\n",
      "8\n",
      "Model saved to ./nonDP_checkpoints/end_8.pth\n",
      "9\n",
      "Model saved to ./nonDP_checkpoints/end_9.pth\n",
      "10\n",
      "Model saved to ./nonDP_checkpoints/end_10.pth\n",
      "----------------------------------------------------------------------------------------\n",
      "Epoch: none, step: 100, Train Loss: 0.015 | Acc: 99.610% (9961/10000)\n",
      "11\n",
      "Model saved to ./nonDP_checkpoints/end_11.pth\n",
      "12\n",
      "Model saved to ./nonDP_checkpoints/end_12.pth\n",
      "13\n",
      "Model saved to ./nonDP_checkpoints/end_13.pth\n",
      "14\n",
      "Model saved to ./nonDP_checkpoints/end_14.pth\n",
      "15\n",
      "Model saved to ./nonDP_checkpoints/end_15.pth\n",
      "16\n",
      "Model saved to ./nonDP_checkpoints/end_16.pth\n",
      "17\n",
      "Model saved to ./nonDP_checkpoints/end_17.pth\n",
      "18\n",
      "Model saved to ./nonDP_checkpoints/end_18.pth\n",
      "19\n",
      "Model saved to ./nonDP_checkpoints/end_19.pth\n",
      "20\n",
      "Model saved to ./nonDP_checkpoints/end_20.pth\n",
      "----------------------------------------------------------------------------------------\n",
      "Epoch: none, step: 200, Train Loss: 0.022 | Acc: 99.405% (19881/20000)\n",
      "21\n",
      "Model saved to ./nonDP_checkpoints/end_21.pth\n",
      "22\n",
      "Model saved to ./nonDP_checkpoints/end_22.pth\n",
      "23\n",
      "Model saved to ./nonDP_checkpoints/end_23.pth\n",
      "24\n",
      "Model saved to ./nonDP_checkpoints/end_24.pth\n",
      "25\n",
      "Model saved to ./nonDP_checkpoints/end_25.pth\n",
      "26\n",
      "Model saved to ./nonDP_checkpoints/end_26.pth\n",
      "27\n",
      "Model saved to ./nonDP_checkpoints/end_27.pth\n",
      "28\n",
      "Model saved to ./nonDP_checkpoints/end_28.pth\n",
      "29\n",
      "Model saved to ./nonDP_checkpoints/end_29.pth\n",
      "30\n",
      "Model saved to ./nonDP_checkpoints/end_30.pth\n",
      "----------------------------------------------------------------------------------------\n",
      "Epoch: none, step: 300, Train Loss: 0.036 | Acc: 98.947% (29684/30000)\n",
      "31\n",
      "Model saved to ./nonDP_checkpoints/end_31.pth\n",
      "32\n",
      "Model saved to ./nonDP_checkpoints/end_32.pth\n",
      "33\n",
      "Model saved to ./nonDP_checkpoints/end_33.pth\n",
      "34\n",
      "Model saved to ./nonDP_checkpoints/end_34.pth\n",
      "35\n",
      "Model saved to ./nonDP_checkpoints/end_35.pth\n",
      "36\n",
      "Model saved to ./nonDP_checkpoints/end_36.pth\n",
      "37\n",
      "Model saved to ./nonDP_checkpoints/end_37.pth\n",
      "38\n",
      "Model saved to ./nonDP_checkpoints/end_38.pth\n",
      "39\n",
      "Model saved to ./nonDP_checkpoints/end_39.pth\n",
      "40\n",
      "Model saved to ./nonDP_checkpoints/end_40.pth\n",
      "----------------------------------------------------------------------------------------\n",
      "Epoch: none, step: 400, Train Loss: 0.056 | Acc: 98.305% (39322/40000)\n",
      "41\n",
      "Model saved to ./nonDP_checkpoints/end_41.pth\n",
      "42\n",
      "Model saved to ./nonDP_checkpoints/end_42.pth\n",
      "43\n",
      "Model saved to ./nonDP_checkpoints/end_43.pth\n",
      "44\n",
      "Model saved to ./nonDP_checkpoints/end_44.pth\n",
      "45\n",
      "Model saved to ./nonDP_checkpoints/end_45.pth\n",
      "46\n",
      "Model saved to ./nonDP_checkpoints/end_46.pth\n",
      "47\n",
      "Model saved to ./nonDP_checkpoints/end_47.pth\n",
      "48\n",
      "Model saved to ./nonDP_checkpoints/end_48.pth\n",
      "49\n",
      "Model saved to ./nonDP_checkpoints/end_49.pth\n",
      "50\n",
      "Model saved to ./nonDP_checkpoints/end_50.pth\n",
      "----------------------------------------------------------------------------------------\n",
      "Epoch: none, step: 500, Train Loss: 0.076 | Acc: 97.636% (48818/50000)\n",
      "Epoch:  none total:  500 Train Loss: 0.076 | Acc: 97.636% (48818/50000)\n"
     ]
    }
   ],
   "source": [
    "#先进行训练，存储模型并得到true_gradient\n",
    "\n",
    "from tqdm.notebook import tqdm\n",
    "import numpy as np\n",
    "SHOW_STEPS=100\n",
    "\n",
    "STAGE='end'\n",
    "NUM=0\n",
    "model_path = f'./nonDP_checkpoints/{STAGE}_{NUM}.pth'\n",
    "torch.save({\n",
    "    'model_state_dict': net.state_dict(),\n",
    "    'optimizer_state_dict': optimizer.state_dict(),\n",
    "}, model_path)\n",
    "print(f'Model saved to {model_path}')\n",
    "\n",
    "\n",
    "# def get_gradient(net):\n",
    "#     current_gradient = []\n",
    "#     for param in net.parameters():\n",
    "#         current_gradient.append(param.grad.view(-1).detach().cpu().numpy())\n",
    "#     # print(len(current_gradient))\n",
    "#     # print([i.size for i in current_gradient])\n",
    "#     gradient=np.concatenate(current_gradient)\n",
    "\n",
    "#     return gradient\n",
    "def get_gradient(net):\n",
    "    current_gradient = []\n",
    "    for name, param in net.named_parameters():\n",
    "        if param.grad is not None:\n",
    "            if name=='patch_embed.proj.bias':\n",
    "                #print(f\"Parameter: {name}, Gradient: {param.grad}\")\n",
    "                current_gradient.append(param.grad.view(-1).detach().cpu().numpy())\n",
    "    gradient=np.concatenate(current_gradient)\n",
    "    #print(gradient.size)\n",
    "    return gradient\n",
    "\n",
    "true_gradient=[]\n",
    "\n",
    "net.train()\n",
    "train_loss = 0\n",
    "correct = 0\n",
    "total = 0\n",
    "\n",
    "\n",
    "for batch_idx, (inputs, targets) in enumerate(tqdm(trainloader)): #这里的batch_idx应该相当于step？\n",
    "    inputs, targets = inputs.to(device), targets.to(device)\n",
    "    outputs = net(inputs)\n",
    "    loss = criterion(outputs, targets) # 交叉熵函数作为LossFunction\n",
    "    loss.backward()\n",
    "    # 每个mini_batch都有自己的一个true gradient\n",
    "    if ((batch_idx + 1) % n_acc_steps == 0) or ((batch_idx + 1) == len(trainloader)):\n",
    "        present_true_gradient=get_gradient(net)\n",
    "        true_gradient.append(present_true_gradient)\n",
    "        print(len(true_gradient))\n",
    "        optimizer.step() # 每积累n_acc_steps步的梯度后进行一次更新参数(每执行logical batch后更新一次)\n",
    "        optimizer.zero_grad()\n",
    "\n",
    "        #保存每个batch_size训练后的模型\n",
    "        NUM=(batch_idx + 1) // n_acc_steps\n",
    "        model_path = f'./nonDP_checkpoints/{STAGE}_{NUM}.pth'\n",
    "        torch.save({\n",
    "            'model_state_dict': net.state_dict(),\n",
    "            'optimizer_state_dict': optimizer.state_dict(),\n",
    "        }, model_path)\n",
    "        print(f'Model saved to {model_path}')\n",
    "        \n",
    "        \n",
    "    train_loss += loss.item()\n",
    "    _, predicted = outputs.max(1)\n",
    "    total += targets.size(0)\n",
    "    correct += predicted.eq(targets).sum().item()\n",
    "\n",
    "\n",
    "\n",
    "    # print log\n",
    "    if ((batch_idx + 1) % SHOW_STEPS == 0) or ((batch_idx + 1) == len(trainloader)):\n",
    "        #privacy_spent = privacy_engine.get_privacy_spent(accounting_mode=\"all\", lenient=False)\n",
    "        tqdm.write(\"----------------------------------------------------------------------------------------\")\n",
    "        tqdm.write('Epoch: {}, step: {}, Train Loss: {:.3f} | Acc: {:.3f}% ({}/{})'.format(\n",
    "            'none', batch_idx + 1, train_loss / (batch_idx + 1), 100. * correct / total, correct, total))\n",
    "        #tqdm.write(\"Privacy Cost: ε_rdp: {:.3f} | α_rdp: {:.1f} | ε_low: {:.3f} | ε_estimate: {:.3f} | ε_upper: {:.3f}\".format(\n",
    "            #privacy_spent[\"eps_rdp\"], privacy_spent[\"alpha_rdp\"], privacy_spent[\"eps_low\"], privacy_spent[\"eps_estimate\"], privacy_spent[\"eps_upper\"]))\n",
    "\n",
    "np.save(f'./gradients/nonDP_{STAGE}_true_gradients.npy', true_gradient)\n",
    "\n",
    "\n",
    "print('Epoch: ', 'none', \"total: \", len(trainloader), 'Train Loss: %.3f | Acc: %.3f%% (%d/%d)'\n",
    "                    % (train_loss/(batch_idx+1), 100.*correct/total, correct, total))\n",
    "\n"
   ]
  },
  {
   "cell_type": "code",
   "execution_count": 20,
   "metadata": {},
   "outputs": [],
   "source": [
    "# 对每个true gradient分别计算相应的per-sample gradient\n",
    "MINI_BS=1\n",
    "BS=1\n",
    "n_acc_steps = BS // MINI_BS # gradient accumulation steps\n",
    "\n",
    "trainloader = torch.utils.data.DataLoader(\n",
    "    trainset, batch_size=MINI_BS, shuffle=True, num_workers=4) # shuffle会在数据加载前打乱数据集\n",
    "\n",
    "testloader = torch.utils.data.DataLoader(\n",
    "    testset, batch_size=100, shuffle=False, num_workers=4)"
   ]
  },
  {
   "cell_type": "code",
   "execution_count": 21,
   "metadata": {},
   "outputs": [
    {
     "name": "stdout",
     "output_type": "stream",
     "text": [
      "i= 0\n",
      "==> Building model.. vit_base_patch16_224 ; BatchNorm is replaced by GroupNorm. Mode:  nonDP\n",
      "Number of total parameters:  85875556\n",
      "Number of trainable parameters:  85875556\n"
     ]
    },
    {
     "data": {
      "application/vnd.jupyter.widget-view+json": {
       "model_id": "3ab7c832eb364de09623bf3c800218ef",
       "version_major": 2,
       "version_minor": 0
      },
      "text/plain": [
       "  0%|          | 0/50000 [00:00<?, ?it/s]"
      ]
     },
     "metadata": {},
     "output_type": "display_data"
    },
    {
     "name": "stdout",
     "output_type": "stream",
     "text": [
      "20\n",
      "i= 1\n",
      "==> Building model.. vit_base_patch16_224 ; BatchNorm is replaced by GroupNorm. Mode:  nonDP\n",
      "Number of total parameters:  85875556\n",
      "Number of trainable parameters:  85875556\n"
     ]
    },
    {
     "data": {
      "application/vnd.jupyter.widget-view+json": {
       "model_id": "f22a9740884d404ba9121e28cdf231e6",
       "version_major": 2,
       "version_minor": 0
      },
      "text/plain": [
       "  0%|          | 0/50000 [00:00<?, ?it/s]"
      ]
     },
     "metadata": {},
     "output_type": "display_data"
    },
    {
     "name": "stdout",
     "output_type": "stream",
     "text": [
      "20\n",
      "i= 2\n",
      "==> Building model.. vit_base_patch16_224 ; BatchNorm is replaced by GroupNorm. Mode:  nonDP\n",
      "Number of total parameters:  85875556\n",
      "Number of trainable parameters:  85875556\n"
     ]
    },
    {
     "data": {
      "application/vnd.jupyter.widget-view+json": {
       "model_id": "89bf9a4b297c4b9c889ec325ab5179f6",
       "version_major": 2,
       "version_minor": 0
      },
      "text/plain": [
       "  0%|          | 0/50000 [00:00<?, ?it/s]"
      ]
     },
     "metadata": {},
     "output_type": "display_data"
    },
    {
     "name": "stdout",
     "output_type": "stream",
     "text": [
      "20\n",
      "i= 3\n",
      "==> Building model.. vit_base_patch16_224 ; BatchNorm is replaced by GroupNorm. Mode:  nonDP\n",
      "Number of total parameters:  85875556\n",
      "Number of trainable parameters:  85875556\n"
     ]
    },
    {
     "data": {
      "application/vnd.jupyter.widget-view+json": {
       "model_id": "8e719f3d167044ff97dcc8771229f782",
       "version_major": 2,
       "version_minor": 0
      },
      "text/plain": [
       "  0%|          | 0/50000 [00:00<?, ?it/s]"
      ]
     },
     "metadata": {},
     "output_type": "display_data"
    },
    {
     "name": "stdout",
     "output_type": "stream",
     "text": [
      "20\n",
      "i= 4\n",
      "==> Building model.. vit_base_patch16_224 ; BatchNorm is replaced by GroupNorm. Mode:  nonDP\n",
      "Number of total parameters:  85875556\n",
      "Number of trainable parameters:  85875556\n"
     ]
    },
    {
     "data": {
      "application/vnd.jupyter.widget-view+json": {
       "model_id": "afe81ffe7ed04387a52b7c50a8a064ab",
       "version_major": 2,
       "version_minor": 0
      },
      "text/plain": [
       "  0%|          | 0/50000 [00:00<?, ?it/s]"
      ]
     },
     "metadata": {},
     "output_type": "display_data"
    },
    {
     "name": "stdout",
     "output_type": "stream",
     "text": [
      "20\n",
      "i= 5\n",
      "==> Building model.. vit_base_patch16_224 ; BatchNorm is replaced by GroupNorm. Mode:  nonDP\n",
      "Number of total parameters:  85875556\n",
      "Number of trainable parameters:  85875556\n"
     ]
    },
    {
     "data": {
      "application/vnd.jupyter.widget-view+json": {
       "model_id": "b448e481da674f88af9bb3a7a0a2b90e",
       "version_major": 2,
       "version_minor": 0
      },
      "text/plain": [
       "  0%|          | 0/50000 [00:00<?, ?it/s]"
      ]
     },
     "metadata": {},
     "output_type": "display_data"
    },
    {
     "name": "stdout",
     "output_type": "stream",
     "text": [
      "20\n",
      "i= 6\n",
      "==> Building model.. vit_base_patch16_224 ; BatchNorm is replaced by GroupNorm. Mode:  nonDP\n",
      "Number of total parameters:  85875556\n",
      "Number of trainable parameters:  85875556\n"
     ]
    },
    {
     "data": {
      "application/vnd.jupyter.widget-view+json": {
       "model_id": "0c4df3225a284ceaa3c629e61b83339e",
       "version_major": 2,
       "version_minor": 0
      },
      "text/plain": [
       "  0%|          | 0/50000 [00:00<?, ?it/s]"
      ]
     },
     "metadata": {},
     "output_type": "display_data"
    },
    {
     "name": "stdout",
     "output_type": "stream",
     "text": [
      "20\n",
      "i= 7\n",
      "==> Building model.. vit_base_patch16_224 ; BatchNorm is replaced by GroupNorm. Mode:  nonDP\n",
      "Number of total parameters:  85875556\n",
      "Number of trainable parameters:  85875556\n"
     ]
    },
    {
     "data": {
      "application/vnd.jupyter.widget-view+json": {
       "model_id": "f5da23201a3f4e43a3676c6abc78b2cb",
       "version_major": 2,
       "version_minor": 0
      },
      "text/plain": [
       "  0%|          | 0/50000 [00:00<?, ?it/s]"
      ]
     },
     "metadata": {},
     "output_type": "display_data"
    },
    {
     "name": "stdout",
     "output_type": "stream",
     "text": [
      "20\n",
      "i= 8\n",
      "==> Building model.. vit_base_patch16_224 ; BatchNorm is replaced by GroupNorm. Mode:  nonDP\n",
      "Number of total parameters:  85875556\n",
      "Number of trainable parameters:  85875556\n"
     ]
    },
    {
     "data": {
      "application/vnd.jupyter.widget-view+json": {
       "model_id": "91e0aa22501143eb9bba1a8dac9e4fb1",
       "version_major": 2,
       "version_minor": 0
      },
      "text/plain": [
       "  0%|          | 0/50000 [00:00<?, ?it/s]"
      ]
     },
     "metadata": {},
     "output_type": "display_data"
    },
    {
     "name": "stdout",
     "output_type": "stream",
     "text": [
      "20\n",
      "i= 9\n",
      "==> Building model.. vit_base_patch16_224 ; BatchNorm is replaced by GroupNorm. Mode:  nonDP\n",
      "Number of total parameters:  85875556\n",
      "Number of trainable parameters:  85875556\n"
     ]
    },
    {
     "data": {
      "application/vnd.jupyter.widget-view+json": {
       "model_id": "e8bfe67325f44f4b9f15edde83f094ab",
       "version_major": 2,
       "version_minor": 0
      },
      "text/plain": [
       "  0%|          | 0/50000 [00:00<?, ?it/s]"
      ]
     },
     "metadata": {},
     "output_type": "display_data"
    },
    {
     "name": "stdout",
     "output_type": "stream",
     "text": [
      "20\n",
      "i= 10\n",
      "==> Building model.. vit_base_patch16_224 ; BatchNorm is replaced by GroupNorm. Mode:  nonDP\n",
      "Number of total parameters:  85875556\n",
      "Number of trainable parameters:  85875556\n"
     ]
    },
    {
     "data": {
      "application/vnd.jupyter.widget-view+json": {
       "model_id": "aa9b9cb059a54aa7af41d96894b95133",
       "version_major": 2,
       "version_minor": 0
      },
      "text/plain": [
       "  0%|          | 0/50000 [00:00<?, ?it/s]"
      ]
     },
     "metadata": {},
     "output_type": "display_data"
    },
    {
     "name": "stdout",
     "output_type": "stream",
     "text": [
      "20\n",
      "i= 11\n",
      "==> Building model.. vit_base_patch16_224 ; BatchNorm is replaced by GroupNorm. Mode:  nonDP\n",
      "Number of total parameters:  85875556\n",
      "Number of trainable parameters:  85875556\n"
     ]
    },
    {
     "data": {
      "application/vnd.jupyter.widget-view+json": {
       "model_id": "f8eca55b46a44ea9beae11d7d82a3c6d",
       "version_major": 2,
       "version_minor": 0
      },
      "text/plain": [
       "  0%|          | 0/50000 [00:00<?, ?it/s]"
      ]
     },
     "metadata": {},
     "output_type": "display_data"
    },
    {
     "name": "stdout",
     "output_type": "stream",
     "text": [
      "20\n",
      "i= 12\n",
      "==> Building model.. vit_base_patch16_224 ; BatchNorm is replaced by GroupNorm. Mode:  nonDP\n",
      "Number of total parameters:  85875556\n",
      "Number of trainable parameters:  85875556\n"
     ]
    },
    {
     "data": {
      "application/vnd.jupyter.widget-view+json": {
       "model_id": "5a05efd30d3647a4bd4fdb9043465c48",
       "version_major": 2,
       "version_minor": 0
      },
      "text/plain": [
       "  0%|          | 0/50000 [00:00<?, ?it/s]"
      ]
     },
     "metadata": {},
     "output_type": "display_data"
    },
    {
     "name": "stdout",
     "output_type": "stream",
     "text": [
      "20\n",
      "i= 13\n",
      "==> Building model.. vit_base_patch16_224 ; BatchNorm is replaced by GroupNorm. Mode:  nonDP\n",
      "Number of total parameters:  85875556\n",
      "Number of trainable parameters:  85875556\n"
     ]
    },
    {
     "data": {
      "application/vnd.jupyter.widget-view+json": {
       "model_id": "67922ea21cbd4b0bb8da110f163c5b17",
       "version_major": 2,
       "version_minor": 0
      },
      "text/plain": [
       "  0%|          | 0/50000 [00:00<?, ?it/s]"
      ]
     },
     "metadata": {},
     "output_type": "display_data"
    },
    {
     "name": "stdout",
     "output_type": "stream",
     "text": [
      "20\n",
      "i= 14\n",
      "==> Building model.. vit_base_patch16_224 ; BatchNorm is replaced by GroupNorm. Mode:  nonDP\n",
      "Number of total parameters:  85875556\n",
      "Number of trainable parameters:  85875556\n"
     ]
    },
    {
     "data": {
      "application/vnd.jupyter.widget-view+json": {
       "model_id": "f9208eb4e9f84298994549d284e621a1",
       "version_major": 2,
       "version_minor": 0
      },
      "text/plain": [
       "  0%|          | 0/50000 [00:00<?, ?it/s]"
      ]
     },
     "metadata": {},
     "output_type": "display_data"
    },
    {
     "name": "stdout",
     "output_type": "stream",
     "text": [
      "20\n",
      "i= 15\n",
      "==> Building model.. vit_base_patch16_224 ; BatchNorm is replaced by GroupNorm. Mode:  nonDP\n",
      "Number of total parameters:  85875556\n",
      "Number of trainable parameters:  85875556\n"
     ]
    },
    {
     "data": {
      "application/vnd.jupyter.widget-view+json": {
       "model_id": "a9ef5e6c030841ff8ba221e83630cdc0",
       "version_major": 2,
       "version_minor": 0
      },
      "text/plain": [
       "  0%|          | 0/50000 [00:00<?, ?it/s]"
      ]
     },
     "metadata": {},
     "output_type": "display_data"
    },
    {
     "name": "stdout",
     "output_type": "stream",
     "text": [
      "20\n",
      "i= 16\n",
      "==> Building model.. vit_base_patch16_224 ; BatchNorm is replaced by GroupNorm. Mode:  nonDP\n",
      "Number of total parameters:  85875556\n",
      "Number of trainable parameters:  85875556\n"
     ]
    },
    {
     "data": {
      "application/vnd.jupyter.widget-view+json": {
       "model_id": "92479d3751fa4c4d93bb2f4e989d0b50",
       "version_major": 2,
       "version_minor": 0
      },
      "text/plain": [
       "  0%|          | 0/50000 [00:00<?, ?it/s]"
      ]
     },
     "metadata": {},
     "output_type": "display_data"
    },
    {
     "name": "stdout",
     "output_type": "stream",
     "text": [
      "20\n",
      "i= 17\n",
      "==> Building model.. vit_base_patch16_224 ; BatchNorm is replaced by GroupNorm. Mode:  nonDP\n",
      "Number of total parameters:  85875556\n",
      "Number of trainable parameters:  85875556\n"
     ]
    },
    {
     "data": {
      "application/vnd.jupyter.widget-view+json": {
       "model_id": "7df14d2497e44ba9b601cb29aede46a1",
       "version_major": 2,
       "version_minor": 0
      },
      "text/plain": [
       "  0%|          | 0/50000 [00:00<?, ?it/s]"
      ]
     },
     "metadata": {},
     "output_type": "display_data"
    },
    {
     "name": "stdout",
     "output_type": "stream",
     "text": [
      "20\n",
      "i= 18\n",
      "==> Building model.. vit_base_patch16_224 ; BatchNorm is replaced by GroupNorm. Mode:  nonDP\n",
      "Number of total parameters:  85875556\n",
      "Number of trainable parameters:  85875556\n"
     ]
    },
    {
     "data": {
      "application/vnd.jupyter.widget-view+json": {
       "model_id": "f17091f0d74c4b2c9b1d40f081f36bd8",
       "version_major": 2,
       "version_minor": 0
      },
      "text/plain": [
       "  0%|          | 0/50000 [00:00<?, ?it/s]"
      ]
     },
     "metadata": {},
     "output_type": "display_data"
    },
    {
     "name": "stdout",
     "output_type": "stream",
     "text": [
      "20\n",
      "i= 19\n",
      "==> Building model.. vit_base_patch16_224 ; BatchNorm is replaced by GroupNorm. Mode:  nonDP\n",
      "Number of total parameters:  85875556\n",
      "Number of trainable parameters:  85875556\n"
     ]
    },
    {
     "data": {
      "application/vnd.jupyter.widget-view+json": {
       "model_id": "b5e2248eb43e4d38849dcf97e1b457c9",
       "version_major": 2,
       "version_minor": 0
      },
      "text/plain": [
       "  0%|          | 0/50000 [00:00<?, ?it/s]"
      ]
     },
     "metadata": {},
     "output_type": "display_data"
    },
    {
     "name": "stdout",
     "output_type": "stream",
     "text": [
      "20\n",
      "i= 20\n",
      "==> Building model.. vit_base_patch16_224 ; BatchNorm is replaced by GroupNorm. Mode:  nonDP\n",
      "Number of total parameters:  85875556\n",
      "Number of trainable parameters:  85875556\n"
     ]
    },
    {
     "data": {
      "application/vnd.jupyter.widget-view+json": {
       "model_id": "6355e51f5d134fe8b43f5045e2ef04c0",
       "version_major": 2,
       "version_minor": 0
      },
      "text/plain": [
       "  0%|          | 0/50000 [00:00<?, ?it/s]"
      ]
     },
     "metadata": {},
     "output_type": "display_data"
    },
    {
     "name": "stdout",
     "output_type": "stream",
     "text": [
      "20\n",
      "i= 21\n",
      "==> Building model.. vit_base_patch16_224 ; BatchNorm is replaced by GroupNorm. Mode:  nonDP\n",
      "Number of total parameters:  85875556\n",
      "Number of trainable parameters:  85875556\n"
     ]
    },
    {
     "data": {
      "application/vnd.jupyter.widget-view+json": {
       "model_id": "dbf9445caa6445ce97ca327818faa879",
       "version_major": 2,
       "version_minor": 0
      },
      "text/plain": [
       "  0%|          | 0/50000 [00:00<?, ?it/s]"
      ]
     },
     "metadata": {},
     "output_type": "display_data"
    },
    {
     "name": "stdout",
     "output_type": "stream",
     "text": [
      "20\n",
      "i= 22\n",
      "==> Building model.. vit_base_patch16_224 ; BatchNorm is replaced by GroupNorm. Mode:  nonDP\n",
      "Number of total parameters:  85875556\n",
      "Number of trainable parameters:  85875556\n"
     ]
    },
    {
     "data": {
      "application/vnd.jupyter.widget-view+json": {
       "model_id": "72a68ae52db64185969629c6f66e8196",
       "version_major": 2,
       "version_minor": 0
      },
      "text/plain": [
       "  0%|          | 0/50000 [00:00<?, ?it/s]"
      ]
     },
     "metadata": {},
     "output_type": "display_data"
    },
    {
     "name": "stdout",
     "output_type": "stream",
     "text": [
      "20\n",
      "i= 23\n",
      "==> Building model.. vit_base_patch16_224 ; BatchNorm is replaced by GroupNorm. Mode:  nonDP\n",
      "Number of total parameters:  85875556\n",
      "Number of trainable parameters:  85875556\n"
     ]
    },
    {
     "data": {
      "application/vnd.jupyter.widget-view+json": {
       "model_id": "7f17fdd65ee14944874cd9327159f5c0",
       "version_major": 2,
       "version_minor": 0
      },
      "text/plain": [
       "  0%|          | 0/50000 [00:00<?, ?it/s]"
      ]
     },
     "metadata": {},
     "output_type": "display_data"
    },
    {
     "name": "stdout",
     "output_type": "stream",
     "text": [
      "20\n",
      "i= 24\n",
      "==> Building model.. vit_base_patch16_224 ; BatchNorm is replaced by GroupNorm. Mode:  nonDP\n",
      "Number of total parameters:  85875556\n",
      "Number of trainable parameters:  85875556\n"
     ]
    },
    {
     "data": {
      "application/vnd.jupyter.widget-view+json": {
       "model_id": "fc1f0914373f44278bfb59429da25988",
       "version_major": 2,
       "version_minor": 0
      },
      "text/plain": [
       "  0%|          | 0/50000 [00:00<?, ?it/s]"
      ]
     },
     "metadata": {},
     "output_type": "display_data"
    },
    {
     "name": "stdout",
     "output_type": "stream",
     "text": [
      "20\n",
      "i= 25\n",
      "==> Building model.. vit_base_patch16_224 ; BatchNorm is replaced by GroupNorm. Mode:  nonDP\n",
      "Number of total parameters:  85875556\n",
      "Number of trainable parameters:  85875556\n"
     ]
    },
    {
     "data": {
      "application/vnd.jupyter.widget-view+json": {
       "model_id": "1ea673c17e8a4644b5bd086c70d04401",
       "version_major": 2,
       "version_minor": 0
      },
      "text/plain": [
       "  0%|          | 0/50000 [00:00<?, ?it/s]"
      ]
     },
     "metadata": {},
     "output_type": "display_data"
    },
    {
     "name": "stdout",
     "output_type": "stream",
     "text": [
      "20\n",
      "i= 26\n",
      "==> Building model.. vit_base_patch16_224 ; BatchNorm is replaced by GroupNorm. Mode:  nonDP\n",
      "Number of total parameters:  85875556\n",
      "Number of trainable parameters:  85875556\n"
     ]
    },
    {
     "data": {
      "application/vnd.jupyter.widget-view+json": {
       "model_id": "9809e262fd114255b6ad485854a6e4f8",
       "version_major": 2,
       "version_minor": 0
      },
      "text/plain": [
       "  0%|          | 0/50000 [00:00<?, ?it/s]"
      ]
     },
     "metadata": {},
     "output_type": "display_data"
    },
    {
     "name": "stdout",
     "output_type": "stream",
     "text": [
      "20\n",
      "i= 27\n",
      "==> Building model.. vit_base_patch16_224 ; BatchNorm is replaced by GroupNorm. Mode:  nonDP\n",
      "Number of total parameters:  85875556\n",
      "Number of trainable parameters:  85875556\n"
     ]
    },
    {
     "data": {
      "application/vnd.jupyter.widget-view+json": {
       "model_id": "e0ce3f72aa62468d8e11267262015794",
       "version_major": 2,
       "version_minor": 0
      },
      "text/plain": [
       "  0%|          | 0/50000 [00:00<?, ?it/s]"
      ]
     },
     "metadata": {},
     "output_type": "display_data"
    },
    {
     "name": "stdout",
     "output_type": "stream",
     "text": [
      "20\n",
      "i= 28\n",
      "==> Building model.. vit_base_patch16_224 ; BatchNorm is replaced by GroupNorm. Mode:  nonDP\n",
      "Number of total parameters:  85875556\n",
      "Number of trainable parameters:  85875556\n"
     ]
    },
    {
     "data": {
      "application/vnd.jupyter.widget-view+json": {
       "model_id": "faa317b259634f5098af8ec0339f5ce4",
       "version_major": 2,
       "version_minor": 0
      },
      "text/plain": [
       "  0%|          | 0/50000 [00:00<?, ?it/s]"
      ]
     },
     "metadata": {},
     "output_type": "display_data"
    },
    {
     "name": "stdout",
     "output_type": "stream",
     "text": [
      "20\n",
      "i= 29\n",
      "==> Building model.. vit_base_patch16_224 ; BatchNorm is replaced by GroupNorm. Mode:  nonDP\n",
      "Number of total parameters:  85875556\n",
      "Number of trainable parameters:  85875556\n"
     ]
    },
    {
     "data": {
      "application/vnd.jupyter.widget-view+json": {
       "model_id": "c8cf245cfbac424d8254f7a388736e4c",
       "version_major": 2,
       "version_minor": 0
      },
      "text/plain": [
       "  0%|          | 0/50000 [00:00<?, ?it/s]"
      ]
     },
     "metadata": {},
     "output_type": "display_data"
    },
    {
     "name": "stdout",
     "output_type": "stream",
     "text": [
      "20\n",
      "i= 30\n",
      "==> Building model.. vit_base_patch16_224 ; BatchNorm is replaced by GroupNorm. Mode:  nonDP\n",
      "Number of total parameters:  85875556\n",
      "Number of trainable parameters:  85875556\n"
     ]
    },
    {
     "data": {
      "application/vnd.jupyter.widget-view+json": {
       "model_id": "f452f9e9adb44cfcb578d213cd92ee24",
       "version_major": 2,
       "version_minor": 0
      },
      "text/plain": [
       "  0%|          | 0/50000 [00:00<?, ?it/s]"
      ]
     },
     "metadata": {},
     "output_type": "display_data"
    },
    {
     "name": "stdout",
     "output_type": "stream",
     "text": [
      "20\n",
      "i= 31\n",
      "==> Building model.. vit_base_patch16_224 ; BatchNorm is replaced by GroupNorm. Mode:  nonDP\n",
      "Number of total parameters:  85875556\n",
      "Number of trainable parameters:  85875556\n"
     ]
    },
    {
     "data": {
      "application/vnd.jupyter.widget-view+json": {
       "model_id": "cb61f3f209884745bd3938455169bf63",
       "version_major": 2,
       "version_minor": 0
      },
      "text/plain": [
       "  0%|          | 0/50000 [00:00<?, ?it/s]"
      ]
     },
     "metadata": {},
     "output_type": "display_data"
    },
    {
     "name": "stdout",
     "output_type": "stream",
     "text": [
      "20\n",
      "i= 32\n",
      "==> Building model.. vit_base_patch16_224 ; BatchNorm is replaced by GroupNorm. Mode:  nonDP\n",
      "Number of total parameters:  85875556\n",
      "Number of trainable parameters:  85875556\n"
     ]
    },
    {
     "data": {
      "application/vnd.jupyter.widget-view+json": {
       "model_id": "d310114523f34cb09779d08d0b70cf85",
       "version_major": 2,
       "version_minor": 0
      },
      "text/plain": [
       "  0%|          | 0/50000 [00:00<?, ?it/s]"
      ]
     },
     "metadata": {},
     "output_type": "display_data"
    },
    {
     "name": "stdout",
     "output_type": "stream",
     "text": [
      "20\n",
      "i= 33\n",
      "==> Building model.. vit_base_patch16_224 ; BatchNorm is replaced by GroupNorm. Mode:  nonDP\n",
      "Number of total parameters:  85875556\n",
      "Number of trainable parameters:  85875556\n"
     ]
    },
    {
     "data": {
      "application/vnd.jupyter.widget-view+json": {
       "model_id": "027f2ca757b8446a83a2124b20cb14e8",
       "version_major": 2,
       "version_minor": 0
      },
      "text/plain": [
       "  0%|          | 0/50000 [00:00<?, ?it/s]"
      ]
     },
     "metadata": {},
     "output_type": "display_data"
    },
    {
     "name": "stdout",
     "output_type": "stream",
     "text": [
      "20\n",
      "i= 34\n",
      "==> Building model.. vit_base_patch16_224 ; BatchNorm is replaced by GroupNorm. Mode:  nonDP\n",
      "Number of total parameters:  85875556\n",
      "Number of trainable parameters:  85875556\n"
     ]
    },
    {
     "data": {
      "application/vnd.jupyter.widget-view+json": {
       "model_id": "9516eb5a62b6417ebfd1b25a14b900f6",
       "version_major": 2,
       "version_minor": 0
      },
      "text/plain": [
       "  0%|          | 0/50000 [00:00<?, ?it/s]"
      ]
     },
     "metadata": {},
     "output_type": "display_data"
    },
    {
     "name": "stdout",
     "output_type": "stream",
     "text": [
      "20\n",
      "i= 35\n",
      "==> Building model.. vit_base_patch16_224 ; BatchNorm is replaced by GroupNorm. Mode:  nonDP\n",
      "Number of total parameters:  85875556\n",
      "Number of trainable parameters:  85875556\n"
     ]
    },
    {
     "data": {
      "application/vnd.jupyter.widget-view+json": {
       "model_id": "eaa2c21fab444b8faf22bf7ebd1ab92a",
       "version_major": 2,
       "version_minor": 0
      },
      "text/plain": [
       "  0%|          | 0/50000 [00:00<?, ?it/s]"
      ]
     },
     "metadata": {},
     "output_type": "display_data"
    },
    {
     "name": "stdout",
     "output_type": "stream",
     "text": [
      "20\n",
      "i= 36\n",
      "==> Building model.. vit_base_patch16_224 ; BatchNorm is replaced by GroupNorm. Mode:  nonDP\n",
      "Number of total parameters:  85875556\n",
      "Number of trainable parameters:  85875556\n"
     ]
    },
    {
     "data": {
      "application/vnd.jupyter.widget-view+json": {
       "model_id": "b3d015e9cc324c4ca6e51fed9e02f6ec",
       "version_major": 2,
       "version_minor": 0
      },
      "text/plain": [
       "  0%|          | 0/50000 [00:00<?, ?it/s]"
      ]
     },
     "metadata": {},
     "output_type": "display_data"
    },
    {
     "name": "stdout",
     "output_type": "stream",
     "text": [
      "20\n",
      "i= 37\n",
      "==> Building model.. vit_base_patch16_224 ; BatchNorm is replaced by GroupNorm. Mode:  nonDP\n",
      "Number of total parameters:  85875556\n",
      "Number of trainable parameters:  85875556\n"
     ]
    },
    {
     "data": {
      "application/vnd.jupyter.widget-view+json": {
       "model_id": "3f76af28b654494e9def5b7b3674062c",
       "version_major": 2,
       "version_minor": 0
      },
      "text/plain": [
       "  0%|          | 0/50000 [00:00<?, ?it/s]"
      ]
     },
     "metadata": {},
     "output_type": "display_data"
    },
    {
     "name": "stdout",
     "output_type": "stream",
     "text": [
      "20\n",
      "i= 38\n",
      "==> Building model.. vit_base_patch16_224 ; BatchNorm is replaced by GroupNorm. Mode:  nonDP\n",
      "Number of total parameters:  85875556\n",
      "Number of trainable parameters:  85875556\n"
     ]
    },
    {
     "data": {
      "application/vnd.jupyter.widget-view+json": {
       "model_id": "c5bca63a12354c63928f66300310ab69",
       "version_major": 2,
       "version_minor": 0
      },
      "text/plain": [
       "  0%|          | 0/50000 [00:00<?, ?it/s]"
      ]
     },
     "metadata": {},
     "output_type": "display_data"
    },
    {
     "name": "stdout",
     "output_type": "stream",
     "text": [
      "20\n",
      "i= 39\n",
      "==> Building model.. vit_base_patch16_224 ; BatchNorm is replaced by GroupNorm. Mode:  nonDP\n",
      "Number of total parameters:  85875556\n",
      "Number of trainable parameters:  85875556\n"
     ]
    },
    {
     "data": {
      "application/vnd.jupyter.widget-view+json": {
       "model_id": "5c0c2cabae304f92981eb4f64384a465",
       "version_major": 2,
       "version_minor": 0
      },
      "text/plain": [
       "  0%|          | 0/50000 [00:00<?, ?it/s]"
      ]
     },
     "metadata": {},
     "output_type": "display_data"
    },
    {
     "name": "stdout",
     "output_type": "stream",
     "text": [
      "20\n",
      "i= 40\n",
      "==> Building model.. vit_base_patch16_224 ; BatchNorm is replaced by GroupNorm. Mode:  nonDP\n",
      "Number of total parameters:  85875556\n",
      "Number of trainable parameters:  85875556\n"
     ]
    },
    {
     "data": {
      "application/vnd.jupyter.widget-view+json": {
       "model_id": "5bde20fbbe3841c897f2f403cd58eb35",
       "version_major": 2,
       "version_minor": 0
      },
      "text/plain": [
       "  0%|          | 0/50000 [00:00<?, ?it/s]"
      ]
     },
     "metadata": {},
     "output_type": "display_data"
    },
    {
     "name": "stdout",
     "output_type": "stream",
     "text": [
      "20\n",
      "i= 41\n",
      "==> Building model.. vit_base_patch16_224 ; BatchNorm is replaced by GroupNorm. Mode:  nonDP\n",
      "Number of total parameters:  85875556\n",
      "Number of trainable parameters:  85875556\n"
     ]
    },
    {
     "data": {
      "application/vnd.jupyter.widget-view+json": {
       "model_id": "3f7cfff8a09b4719b17f87c360a9b722",
       "version_major": 2,
       "version_minor": 0
      },
      "text/plain": [
       "  0%|          | 0/50000 [00:00<?, ?it/s]"
      ]
     },
     "metadata": {},
     "output_type": "display_data"
    },
    {
     "name": "stdout",
     "output_type": "stream",
     "text": [
      "20\n",
      "i= 42\n",
      "==> Building model.. vit_base_patch16_224 ; BatchNorm is replaced by GroupNorm. Mode:  nonDP\n",
      "Number of total parameters:  85875556\n",
      "Number of trainable parameters:  85875556\n"
     ]
    },
    {
     "data": {
      "application/vnd.jupyter.widget-view+json": {
       "model_id": "43c80573071f4b429ceae83005955d0a",
       "version_major": 2,
       "version_minor": 0
      },
      "text/plain": [
       "  0%|          | 0/50000 [00:00<?, ?it/s]"
      ]
     },
     "metadata": {},
     "output_type": "display_data"
    },
    {
     "name": "stdout",
     "output_type": "stream",
     "text": [
      "20\n",
      "i= 43\n",
      "==> Building model.. vit_base_patch16_224 ; BatchNorm is replaced by GroupNorm. Mode:  nonDP\n",
      "Number of total parameters:  85875556\n",
      "Number of trainable parameters:  85875556\n"
     ]
    },
    {
     "data": {
      "application/vnd.jupyter.widget-view+json": {
       "model_id": "14502b0f90fd4391a80455487e34af92",
       "version_major": 2,
       "version_minor": 0
      },
      "text/plain": [
       "  0%|          | 0/50000 [00:00<?, ?it/s]"
      ]
     },
     "metadata": {},
     "output_type": "display_data"
    },
    {
     "name": "stdout",
     "output_type": "stream",
     "text": [
      "20\n",
      "i= 44\n",
      "==> Building model.. vit_base_patch16_224 ; BatchNorm is replaced by GroupNorm. Mode:  nonDP\n",
      "Number of total parameters:  85875556\n",
      "Number of trainable parameters:  85875556\n"
     ]
    },
    {
     "data": {
      "application/vnd.jupyter.widget-view+json": {
       "model_id": "03b51a5f8b5d40a582b93467f75e69bf",
       "version_major": 2,
       "version_minor": 0
      },
      "text/plain": [
       "  0%|          | 0/50000 [00:00<?, ?it/s]"
      ]
     },
     "metadata": {},
     "output_type": "display_data"
    },
    {
     "name": "stdout",
     "output_type": "stream",
     "text": [
      "20\n",
      "i= 45\n",
      "==> Building model.. vit_base_patch16_224 ; BatchNorm is replaced by GroupNorm. Mode:  nonDP\n",
      "Number of total parameters:  85875556\n",
      "Number of trainable parameters:  85875556\n"
     ]
    },
    {
     "data": {
      "application/vnd.jupyter.widget-view+json": {
       "model_id": "d12ba4de441840ef86ece81e8b348c5b",
       "version_major": 2,
       "version_minor": 0
      },
      "text/plain": [
       "  0%|          | 0/50000 [00:00<?, ?it/s]"
      ]
     },
     "metadata": {},
     "output_type": "display_data"
    },
    {
     "name": "stdout",
     "output_type": "stream",
     "text": [
      "20\n",
      "i= 46\n",
      "==> Building model.. vit_base_patch16_224 ; BatchNorm is replaced by GroupNorm. Mode:  nonDP\n",
      "Number of total parameters:  85875556\n",
      "Number of trainable parameters:  85875556\n"
     ]
    },
    {
     "data": {
      "application/vnd.jupyter.widget-view+json": {
       "model_id": "16e16d3391774a2795642c190eb130a1",
       "version_major": 2,
       "version_minor": 0
      },
      "text/plain": [
       "  0%|          | 0/50000 [00:00<?, ?it/s]"
      ]
     },
     "metadata": {},
     "output_type": "display_data"
    },
    {
     "name": "stdout",
     "output_type": "stream",
     "text": [
      "20\n",
      "i= 47\n",
      "==> Building model.. vit_base_patch16_224 ; BatchNorm is replaced by GroupNorm. Mode:  nonDP\n",
      "Number of total parameters:  85875556\n",
      "Number of trainable parameters:  85875556\n"
     ]
    },
    {
     "data": {
      "application/vnd.jupyter.widget-view+json": {
       "model_id": "d071823b5b0646f9b5aa7456841d7dc0",
       "version_major": 2,
       "version_minor": 0
      },
      "text/plain": [
       "  0%|          | 0/50000 [00:00<?, ?it/s]"
      ]
     },
     "metadata": {},
     "output_type": "display_data"
    },
    {
     "name": "stdout",
     "output_type": "stream",
     "text": [
      "20\n",
      "i= 48\n",
      "==> Building model.. vit_base_patch16_224 ; BatchNorm is replaced by GroupNorm. Mode:  nonDP\n",
      "Number of total parameters:  85875556\n",
      "Number of trainable parameters:  85875556\n"
     ]
    },
    {
     "data": {
      "application/vnd.jupyter.widget-view+json": {
       "model_id": "4f132ea256554af59eeddd5fadb5ee68",
       "version_major": 2,
       "version_minor": 0
      },
      "text/plain": [
       "  0%|          | 0/50000 [00:00<?, ?it/s]"
      ]
     },
     "metadata": {},
     "output_type": "display_data"
    },
    {
     "name": "stdout",
     "output_type": "stream",
     "text": [
      "20\n",
      "i= 49\n",
      "==> Building model.. vit_base_patch16_224 ; BatchNorm is replaced by GroupNorm. Mode:  nonDP\n",
      "Number of total parameters:  85875556\n",
      "Number of trainable parameters:  85875556\n"
     ]
    },
    {
     "data": {
      "application/vnd.jupyter.widget-view+json": {
       "model_id": "66d92cb81d664ee9bf3dd59ea6eb6751",
       "version_major": 2,
       "version_minor": 0
      },
      "text/plain": [
       "  0%|          | 0/50000 [00:00<?, ?it/s]"
      ]
     },
     "metadata": {},
     "output_type": "display_data"
    },
    {
     "name": "stdout",
     "output_type": "stream",
     "text": [
      "20\n"
     ]
    }
   ],
   "source": [
    "import timm\n",
    "from opacus.validators import ModuleValidator\n",
    "import torch.nn as nn\n",
    "import torch.optim as optim\n",
    "\n",
    "total_per_sample_gradient=[]\n",
    "\n",
    "for i in range(50):\n",
    "    print('i=',i)\n",
    "    MODEL_PATH='nonDP_checkpoints/'+STAGE+\"_\"+str(i)+'.pth'\n",
    "    checkpoint = torch.load(MODEL_PATH)\n",
    "    num_classes=100\n",
    "    print('==> Building model..', MODEL,'; BatchNorm is replaced by GroupNorm. Mode: ', CLIPPING_MODE)\n",
    "    net = timm.create_model(MODEL,pretrained=True,num_classes=num_classes)\n",
    "    net = ModuleValidator.fix(net); # fix使其能用于DP训练\n",
    "    net.load_state_dict(checkpoint['model_state_dict'])\n",
    "    net=net.to(device) \n",
    "\n",
    "    print('Number of total parameters: ', sum([p.numel() for p in net.parameters()]))\n",
    "    print('Number of trainable parameters: ', sum([p.numel() for p in net.parameters() if p.requires_grad]))\n",
    "\n",
    "    criterion = nn.CrossEntropyLoss()\n",
    "    optimizer = optim.Adam(net.parameters(), lr=LR)\n",
    "    optimizer.load_state_dict(checkpoint['optimizer_state_dict'])\n",
    "\n",
    "    i_per_sample_gradient=[]\n",
    "\n",
    "    net.train()\n",
    "    train_loss = 0\n",
    "    correct = 0\n",
    "    total = 0\n",
    "\n",
    "\n",
    "    for batch_idx, (inputs, targets) in enumerate(tqdm(trainloader)):\n",
    "        inputs, targets = inputs.to(device), targets.to(device)\n",
    "        outputs = net(inputs)\n",
    "        loss = criterion(outputs, targets) # 交叉熵函数作为LossFunction\n",
    "        loss.backward()\n",
    "\n",
    "        if((batch_idx+1)%50==0):\n",
    "            present_per_sample_gradient=get_gradient(net)\n",
    "            i_per_sample_gradient.append(present_per_sample_gradient)\n",
    "        \n",
    "        optimizer.step() # 每积累n_acc_steps步的梯度后进行一次更新参数(每执行logical batch后更新一次)\n",
    "        optimizer.zero_grad()\n",
    "\n",
    "\n",
    "        train_loss += loss.item()\n",
    "        _, predicted = outputs.max(1)\n",
    "        total += targets.size(0)\n",
    "        correct += predicted.eq(targets).sum().item()\n",
    "\n",
    "\n",
    "        if(batch_idx+1==1000):\n",
    "            break\n",
    "    print(len(i_per_sample_gradient))\n",
    "    np.save(f'./gradients/nonDP_{STAGE}_{i}_gradients.npy', i_per_sample_gradient)\n",
    "    #total_per_sample_gradient.append(i_per_sample_gradient)\n",
    "\n",
    "\n",
    "\n"
   ]
  }
 ],
 "metadata": {
  "kernelspec": {
   "display_name": "DP",
   "language": "python",
   "name": "python3"
  },
  "language_info": {
   "codemirror_mode": {
    "name": "ipython",
    "version": 3
   },
   "file_extension": ".py",
   "mimetype": "text/x-python",
   "name": "python",
   "nbconvert_exporter": "python",
   "pygments_lexer": "ipython3",
   "version": "3.9.19"
  }
 },
 "nbformat": 4,
 "nbformat_minor": 2
}
